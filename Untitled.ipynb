{
 "cells": [
  {
   "cell_type": "code",
   "execution_count": 98,
   "id": "aea8e4e6-101d-4cb3-880f-d45270b9010c",
   "metadata": {
    "editable": true,
    "slideshow": {
     "slide_type": ""
    },
    "tags": []
   },
   "outputs": [],
   "source": [
    "import pandas as pd\n",
    "import matplotlib.pyplot as plt\n",
    "import seaborn as sns"
   ]
  },
  {
   "cell_type": "code",
   "execution_count": 99,
   "id": "e6ac60b2-4cbb-44d7-9843-1ca90e584de3",
   "metadata": {
    "editable": true,
    "slideshow": {
     "slide_type": ""
    },
    "tags": []
   },
   "outputs": [],
   "source": [
    "dataset = pd.read_csv(\"desafio_indicium_imdb.csv\", sep=\",\")"
   ]
  },
  {
   "cell_type": "code",
   "execution_count": 100,
   "id": "40b44f28-dcf4-4349-9c02-2d953becc9b4",
   "metadata": {},
   "outputs": [
    {
     "data": {
      "text/plain": [
       "(999, 16)"
      ]
     },
     "execution_count": 100,
     "metadata": {},
     "output_type": "execute_result"
    }
   ],
   "source": [
    "dataset.shape"
   ]
  },
  {
   "cell_type": "markdown",
   "id": "58867c3f",
   "metadata": {},
   "source": [
    "# 1 - Análise Exploratória"
   ]
  },
  {
   "cell_type": "markdown",
   "id": "476fcab2",
   "metadata": {},
   "source": [
    " ## 1.1 - Tipos dos dados\n",
    "\n",
    " Aqui já observamos algumas inconsistências no nosso dataset, pois encontramos variáveis tipo object onde deveriam ser do tipo int. Um exemplo seria o número de vendas (Gross)"
   ]
  },
  {
   "cell_type": "code",
   "execution_count": 101,
   "id": "f611e309-8fca-41c9-a746-521990879100",
   "metadata": {},
   "outputs": [
    {
     "name": "stdout",
     "output_type": "stream",
     "text": [
      "<class 'pandas.core.frame.DataFrame'>\n",
      "RangeIndex: 999 entries, 0 to 998\n",
      "Data columns (total 16 columns):\n",
      " #   Column         Non-Null Count  Dtype  \n",
      "---  ------         --------------  -----  \n",
      " 0   Unnamed: 0     999 non-null    int64  \n",
      " 1   Series_Title   999 non-null    object \n",
      " 2   Released_Year  999 non-null    object \n",
      " 3   Certificate    898 non-null    object \n",
      " 4   Runtime        999 non-null    object \n",
      " 5   Genre          999 non-null    object \n",
      " 6   IMDB_Rating    999 non-null    float64\n",
      " 7   Overview       999 non-null    object \n",
      " 8   Meta_score     842 non-null    float64\n",
      " 9   Director       999 non-null    object \n",
      " 10  Star1          999 non-null    object \n",
      " 11  Star2          999 non-null    object \n",
      " 12  Star3          999 non-null    object \n",
      " 13  Star4          999 non-null    object \n",
      " 14  No_of_Votes    999 non-null    int64  \n",
      " 15  Gross          830 non-null    object \n",
      "dtypes: float64(2), int64(2), object(12)\n",
      "memory usage: 125.0+ KB\n"
     ]
    }
   ],
   "source": [
    "dataset.info()"
   ]
  },
  {
   "cell_type": "markdown",
   "id": "dad75b4f",
   "metadata": {},
   "source": [
    "Podemos ver que Unnamed: 0 é uma coluna que não tem valor para nosso dataset"
   ]
  },
  {
   "cell_type": "code",
   "execution_count": 102,
   "id": "5a4e28f2-4ca4-416b-a321-9ed73069a45f",
   "metadata": {},
   "outputs": [
    {
     "data": {
      "text/html": [
       "<div>\n",
       "<style scoped>\n",
       "    .dataframe tbody tr th:only-of-type {\n",
       "        vertical-align: middle;\n",
       "    }\n",
       "\n",
       "    .dataframe tbody tr th {\n",
       "        vertical-align: top;\n",
       "    }\n",
       "\n",
       "    .dataframe thead th {\n",
       "        text-align: right;\n",
       "    }\n",
       "</style>\n",
       "<table border=\"1\" class=\"dataframe\">\n",
       "  <thead>\n",
       "    <tr style=\"text-align: right;\">\n",
       "      <th></th>\n",
       "      <th>Unnamed: 0</th>\n",
       "      <th>Series_Title</th>\n",
       "      <th>Released_Year</th>\n",
       "      <th>Certificate</th>\n",
       "      <th>Runtime</th>\n",
       "      <th>Genre</th>\n",
       "      <th>IMDB_Rating</th>\n",
       "      <th>Overview</th>\n",
       "      <th>Meta_score</th>\n",
       "      <th>Director</th>\n",
       "      <th>Star1</th>\n",
       "      <th>Star2</th>\n",
       "      <th>Star3</th>\n",
       "      <th>Star4</th>\n",
       "      <th>No_of_Votes</th>\n",
       "      <th>Gross</th>\n",
       "    </tr>\n",
       "  </thead>\n",
       "  <tbody>\n",
       "    <tr>\n",
       "      <th>0</th>\n",
       "      <td>1</td>\n",
       "      <td>The Godfather</td>\n",
       "      <td>1972</td>\n",
       "      <td>A</td>\n",
       "      <td>175 min</td>\n",
       "      <td>Crime, Drama</td>\n",
       "      <td>9.2</td>\n",
       "      <td>An organized crime dynasty's aging patriarch t...</td>\n",
       "      <td>100.0</td>\n",
       "      <td>Francis Ford Coppola</td>\n",
       "      <td>Marlon Brando</td>\n",
       "      <td>Al Pacino</td>\n",
       "      <td>James Caan</td>\n",
       "      <td>Diane Keaton</td>\n",
       "      <td>1620367</td>\n",
       "      <td>134,966,411</td>\n",
       "    </tr>\n",
       "    <tr>\n",
       "      <th>1</th>\n",
       "      <td>2</td>\n",
       "      <td>The Dark Knight</td>\n",
       "      <td>2008</td>\n",
       "      <td>UA</td>\n",
       "      <td>152 min</td>\n",
       "      <td>Action, Crime, Drama</td>\n",
       "      <td>9.0</td>\n",
       "      <td>When the menace known as the Joker wreaks havo...</td>\n",
       "      <td>84.0</td>\n",
       "      <td>Christopher Nolan</td>\n",
       "      <td>Christian Bale</td>\n",
       "      <td>Heath Ledger</td>\n",
       "      <td>Aaron Eckhart</td>\n",
       "      <td>Michael Caine</td>\n",
       "      <td>2303232</td>\n",
       "      <td>534,858,444</td>\n",
       "    </tr>\n",
       "    <tr>\n",
       "      <th>2</th>\n",
       "      <td>3</td>\n",
       "      <td>The Godfather: Part II</td>\n",
       "      <td>1974</td>\n",
       "      <td>A</td>\n",
       "      <td>202 min</td>\n",
       "      <td>Crime, Drama</td>\n",
       "      <td>9.0</td>\n",
       "      <td>The early life and career of Vito Corleone in ...</td>\n",
       "      <td>90.0</td>\n",
       "      <td>Francis Ford Coppola</td>\n",
       "      <td>Al Pacino</td>\n",
       "      <td>Robert De Niro</td>\n",
       "      <td>Robert Duvall</td>\n",
       "      <td>Diane Keaton</td>\n",
       "      <td>1129952</td>\n",
       "      <td>57,300,000</td>\n",
       "    </tr>\n",
       "    <tr>\n",
       "      <th>3</th>\n",
       "      <td>4</td>\n",
       "      <td>12 Angry Men</td>\n",
       "      <td>1957</td>\n",
       "      <td>U</td>\n",
       "      <td>96 min</td>\n",
       "      <td>Crime, Drama</td>\n",
       "      <td>9.0</td>\n",
       "      <td>A jury holdout attempts to prevent a miscarria...</td>\n",
       "      <td>96.0</td>\n",
       "      <td>Sidney Lumet</td>\n",
       "      <td>Henry Fonda</td>\n",
       "      <td>Lee J. Cobb</td>\n",
       "      <td>Martin Balsam</td>\n",
       "      <td>John Fiedler</td>\n",
       "      <td>689845</td>\n",
       "      <td>4,360,000</td>\n",
       "    </tr>\n",
       "    <tr>\n",
       "      <th>4</th>\n",
       "      <td>5</td>\n",
       "      <td>The Lord of the Rings: The Return of the King</td>\n",
       "      <td>2003</td>\n",
       "      <td>U</td>\n",
       "      <td>201 min</td>\n",
       "      <td>Action, Adventure, Drama</td>\n",
       "      <td>8.9</td>\n",
       "      <td>Gandalf and Aragorn lead the World of Men agai...</td>\n",
       "      <td>94.0</td>\n",
       "      <td>Peter Jackson</td>\n",
       "      <td>Elijah Wood</td>\n",
       "      <td>Viggo Mortensen</td>\n",
       "      <td>Ian McKellen</td>\n",
       "      <td>Orlando Bloom</td>\n",
       "      <td>1642758</td>\n",
       "      <td>377,845,905</td>\n",
       "    </tr>\n",
       "  </tbody>\n",
       "</table>\n",
       "</div>"
      ],
      "text/plain": [
       "   Unnamed: 0                                   Series_Title Released_Year  \\\n",
       "0           1                                  The Godfather          1972   \n",
       "1           2                                The Dark Knight          2008   \n",
       "2           3                         The Godfather: Part II          1974   \n",
       "3           4                                   12 Angry Men          1957   \n",
       "4           5  The Lord of the Rings: The Return of the King          2003   \n",
       "\n",
       "  Certificate  Runtime                     Genre  IMDB_Rating  \\\n",
       "0           A  175 min              Crime, Drama          9.2   \n",
       "1          UA  152 min      Action, Crime, Drama          9.0   \n",
       "2           A  202 min              Crime, Drama          9.0   \n",
       "3           U   96 min              Crime, Drama          9.0   \n",
       "4           U  201 min  Action, Adventure, Drama          8.9   \n",
       "\n",
       "                                            Overview  Meta_score  \\\n",
       "0  An organized crime dynasty's aging patriarch t...       100.0   \n",
       "1  When the menace known as the Joker wreaks havo...        84.0   \n",
       "2  The early life and career of Vito Corleone in ...        90.0   \n",
       "3  A jury holdout attempts to prevent a miscarria...        96.0   \n",
       "4  Gandalf and Aragorn lead the World of Men agai...        94.0   \n",
       "\n",
       "               Director           Star1            Star2          Star3  \\\n",
       "0  Francis Ford Coppola   Marlon Brando        Al Pacino     James Caan   \n",
       "1     Christopher Nolan  Christian Bale     Heath Ledger  Aaron Eckhart   \n",
       "2  Francis Ford Coppola       Al Pacino   Robert De Niro  Robert Duvall   \n",
       "3          Sidney Lumet     Henry Fonda      Lee J. Cobb  Martin Balsam   \n",
       "4         Peter Jackson     Elijah Wood  Viggo Mortensen   Ian McKellen   \n",
       "\n",
       "           Star4  No_of_Votes        Gross  \n",
       "0   Diane Keaton      1620367  134,966,411  \n",
       "1  Michael Caine      2303232  534,858,444  \n",
       "2   Diane Keaton      1129952   57,300,000  \n",
       "3   John Fiedler       689845    4,360,000  \n",
       "4  Orlando Bloom      1642758  377,845,905  "
      ]
     },
     "execution_count": 102,
     "metadata": {},
     "output_type": "execute_result"
    }
   ],
   "source": [
    "dataset.head()"
   ]
  },
  {
   "cell_type": "code",
   "execution_count": 103,
   "id": "64dce1ca-0155-4572-be8f-d353f7f180c5",
   "metadata": {},
   "outputs": [
    {
     "data": {
      "text/html": [
       "<div>\n",
       "<style scoped>\n",
       "    .dataframe tbody tr th:only-of-type {\n",
       "        vertical-align: middle;\n",
       "    }\n",
       "\n",
       "    .dataframe tbody tr th {\n",
       "        vertical-align: top;\n",
       "    }\n",
       "\n",
       "    .dataframe thead th {\n",
       "        text-align: right;\n",
       "    }\n",
       "</style>\n",
       "<table border=\"1\" class=\"dataframe\">\n",
       "  <thead>\n",
       "    <tr style=\"text-align: right;\">\n",
       "      <th></th>\n",
       "      <th>Unnamed: 0</th>\n",
       "      <th>IMDB_Rating</th>\n",
       "      <th>Meta_score</th>\n",
       "      <th>No_of_Votes</th>\n",
       "    </tr>\n",
       "  </thead>\n",
       "  <tbody>\n",
       "    <tr>\n",
       "      <th>count</th>\n",
       "      <td>999.000000</td>\n",
       "      <td>999.000000</td>\n",
       "      <td>842.000000</td>\n",
       "      <td>9.990000e+02</td>\n",
       "    </tr>\n",
       "    <tr>\n",
       "      <th>mean</th>\n",
       "      <td>500.000000</td>\n",
       "      <td>7.947948</td>\n",
       "      <td>77.969121</td>\n",
       "      <td>2.716214e+05</td>\n",
       "    </tr>\n",
       "    <tr>\n",
       "      <th>std</th>\n",
       "      <td>288.530761</td>\n",
       "      <td>0.272290</td>\n",
       "      <td>12.383257</td>\n",
       "      <td>3.209126e+05</td>\n",
       "    </tr>\n",
       "    <tr>\n",
       "      <th>min</th>\n",
       "      <td>1.000000</td>\n",
       "      <td>7.600000</td>\n",
       "      <td>28.000000</td>\n",
       "      <td>2.508800e+04</td>\n",
       "    </tr>\n",
       "    <tr>\n",
       "      <th>25%</th>\n",
       "      <td>250.500000</td>\n",
       "      <td>7.700000</td>\n",
       "      <td>70.000000</td>\n",
       "      <td>5.547150e+04</td>\n",
       "    </tr>\n",
       "    <tr>\n",
       "      <th>50%</th>\n",
       "      <td>500.000000</td>\n",
       "      <td>7.900000</td>\n",
       "      <td>79.000000</td>\n",
       "      <td>1.383560e+05</td>\n",
       "    </tr>\n",
       "    <tr>\n",
       "      <th>75%</th>\n",
       "      <td>749.500000</td>\n",
       "      <td>8.100000</td>\n",
       "      <td>87.000000</td>\n",
       "      <td>3.731675e+05</td>\n",
       "    </tr>\n",
       "    <tr>\n",
       "      <th>max</th>\n",
       "      <td>999.000000</td>\n",
       "      <td>9.200000</td>\n",
       "      <td>100.000000</td>\n",
       "      <td>2.303232e+06</td>\n",
       "    </tr>\n",
       "  </tbody>\n",
       "</table>\n",
       "</div>"
      ],
      "text/plain": [
       "       Unnamed: 0  IMDB_Rating  Meta_score   No_of_Votes\n",
       "count  999.000000   999.000000  842.000000  9.990000e+02\n",
       "mean   500.000000     7.947948   77.969121  2.716214e+05\n",
       "std    288.530761     0.272290   12.383257  3.209126e+05\n",
       "min      1.000000     7.600000   28.000000  2.508800e+04\n",
       "25%    250.500000     7.700000   70.000000  5.547150e+04\n",
       "50%    500.000000     7.900000   79.000000  1.383560e+05\n",
       "75%    749.500000     8.100000   87.000000  3.731675e+05\n",
       "max    999.000000     9.200000  100.000000  2.303232e+06"
      ]
     },
     "execution_count": 103,
     "metadata": {},
     "output_type": "execute_result"
    }
   ],
   "source": [
    "dataset.describe()"
   ]
  },
  {
   "cell_type": "markdown",
   "id": "f15c6992",
   "metadata": {},
   "source": [
    "## 1.2 - Valores nulos"
   ]
  },
  {
   "cell_type": "code",
   "execution_count": 104,
   "id": "e994cadc-5490-4d63-84b1-bd1bfeae9332",
   "metadata": {},
   "outputs": [
    {
     "data": {
      "text/plain": [
       "Unnamed: 0         0\n",
       "Series_Title       0\n",
       "Released_Year      0\n",
       "Certificate      101\n",
       "Runtime            0\n",
       "Genre              0\n",
       "IMDB_Rating        0\n",
       "Overview           0\n",
       "Meta_score       157\n",
       "Director           0\n",
       "Star1              0\n",
       "Star2              0\n",
       "Star3              0\n",
       "Star4              0\n",
       "No_of_Votes        0\n",
       "Gross            169\n",
       "dtype: int64"
      ]
     },
     "execution_count": 104,
     "metadata": {},
     "output_type": "execute_result"
    }
   ],
   "source": [
    "dataset.isnull().sum()"
   ]
  },
  {
   "cell_type": "code",
   "execution_count": 105,
   "id": "2aef89d3-7e95-42c1-b31e-ad5b4767585d",
   "metadata": {},
   "outputs": [
    {
     "data": {
      "text/plain": [
       "Gross          169\n",
       "Meta_score     157\n",
       "Certificate    101\n",
       "Unnamed: 0       0\n",
       "Runtime          0\n",
       "dtype: int64"
      ]
     },
     "execution_count": 105,
     "metadata": {},
     "output_type": "execute_result"
    }
   ],
   "source": [
    "# Ordenar os valores ao longo de um dos eixos\n",
    "\n",
    "total = dataset.isnull().sum().sort_values(ascending=False)\n",
    "total.head()"
   ]
  },
  {
   "cell_type": "markdown",
   "id": "d6e092b2",
   "metadata": {},
   "source": [
    "## 1.3 - Observação\n",
    "\n",
    "Aqui podemos ver que aproximadamente 32% do nosso dataset tem dados nulos, o que é um valor considerável na falta de dados."
   ]
  },
  {
   "cell_type": "code",
   "execution_count": 106,
   "id": "da6ac5a5-a5dd-4036-84cb-a8adedbcbbc3",
   "metadata": {},
   "outputs": [
    {
     "data": {
      "text/html": [
       "<div>\n",
       "<style scoped>\n",
       "    .dataframe tbody tr th:only-of-type {\n",
       "        vertical-align: middle;\n",
       "    }\n",
       "\n",
       "    .dataframe tbody tr th {\n",
       "        vertical-align: top;\n",
       "    }\n",
       "\n",
       "    .dataframe thead th {\n",
       "        text-align: right;\n",
       "    }\n",
       "</style>\n",
       "<table border=\"1\" class=\"dataframe\">\n",
       "  <thead>\n",
       "    <tr style=\"text-align: right;\">\n",
       "      <th></th>\n",
       "      <th>Total</th>\n",
       "      <th>Porcentagem</th>\n",
       "    </tr>\n",
       "  </thead>\n",
       "  <tbody>\n",
       "    <tr>\n",
       "      <th>Gross</th>\n",
       "      <td>169</td>\n",
       "      <td>16.916917</td>\n",
       "    </tr>\n",
       "    <tr>\n",
       "      <th>Meta_score</th>\n",
       "      <td>157</td>\n",
       "      <td>15.715716</td>\n",
       "    </tr>\n",
       "    <tr>\n",
       "      <th>Certificate</th>\n",
       "      <td>101</td>\n",
       "      <td>10.110110</td>\n",
       "    </tr>\n",
       "    <tr>\n",
       "      <th>Unnamed: 0</th>\n",
       "      <td>0</td>\n",
       "      <td>0.000000</td>\n",
       "    </tr>\n",
       "    <tr>\n",
       "      <th>Runtime</th>\n",
       "      <td>0</td>\n",
       "      <td>0.000000</td>\n",
       "    </tr>\n",
       "  </tbody>\n",
       "</table>\n",
       "</div>"
      ],
      "text/plain": [
       "             Total  Porcentagem\n",
       "Gross          169    16.916917\n",
       "Meta_score     157    15.715716\n",
       "Certificate    101    10.110110\n",
       "Unnamed: 0       0     0.000000\n",
       "Runtime          0     0.000000"
      ]
     },
     "execution_count": 106,
     "metadata": {},
     "output_type": "execute_result"
    }
   ],
   "source": [
    "# Quantos porcento os valores nulos representam no dataset?\n",
    "\n",
    "percent = ((dataset.isnull().sum()/dataset.shape[0])*100).sort_values(ascending=False)\n",
    "percent_df = pd.DataFrame({'Total': total, 'Porcentagem':percent})\n",
    "percent_df.head()"
   ]
  },
  {
   "cell_type": "code",
   "execution_count": 107,
   "id": "1c2e05eb-dc37-41a8-aef0-255b9e1782b9",
   "metadata": {},
   "outputs": [
    {
     "data": {
      "text/plain": [
       "Unnamed: 0       0\n",
       "Series_Title     0\n",
       "Released_Year    0\n",
       "Certificate      0\n",
       "Runtime          0\n",
       "Genre            0\n",
       "IMDB_Rating      0\n",
       "Overview         0\n",
       "Meta_score       0\n",
       "Director         0\n",
       "Star1            0\n",
       "Star2            0\n",
       "Star3            0\n",
       "Star4            0\n",
       "No_of_Votes      0\n",
       "Gross            0\n",
       "dtype: int64"
      ]
     },
     "execution_count": 107,
     "metadata": {},
     "output_type": "execute_result"
    }
   ],
   "source": [
    "# Removendo valores nulos\n",
    "\n",
    "dataset.dropna(axis=0, how='any', inplace=True)\n",
    "dataset.isnull().sum()"
   ]
  },
  {
   "cell_type": "code",
   "execution_count": 108,
   "id": "bc968ddf-c931-4a52-8043-52a6dbc05ba3",
   "metadata": {},
   "outputs": [
    {
     "data": {
      "text/plain": [
       "(713, 16)"
      ]
     },
     "execution_count": 108,
     "metadata": {},
     "output_type": "execute_result"
    }
   ],
   "source": [
    "dataset.shape"
   ]
  },
  {
   "cell_type": "code",
   "execution_count": 109,
   "id": "699ff07c-0dec-4d7e-8e62-5885ca173b55",
   "metadata": {},
   "outputs": [
    {
     "data": {
      "text/plain": [
       "np.int64(0)"
      ]
     },
     "execution_count": 109,
     "metadata": {},
     "output_type": "execute_result"
    }
   ],
   "source": [
    "# Vendo filmes duplicados\n",
    "\n",
    "dataset.duplicated(subset=['Series_Title']).sum()"
   ]
  },
  {
   "cell_type": "markdown",
   "id": "277b4304",
   "metadata": {},
   "source": [
    "## 1.4 - Comparativo da quantidade de vendas com relação ao IMDB, Faixa etária e Duração do filme"
   ]
  },
  {
   "cell_type": "markdown",
   "id": "248443b2",
   "metadata": {},
   "source": [
    "### 1.4.1 - Tratamento dos dados de Object para Int"
   ]
  },
  {
   "cell_type": "code",
   "execution_count": 110,
   "id": "cfc5c2fb-d2a8-470a-8c8f-5ca8dbea9416",
   "metadata": {},
   "outputs": [
    {
     "data": {
      "text/plain": [
       "0      134966411\n",
       "1      534858444\n",
       "2       57300000\n",
       "3        4360000\n",
       "4      377845905\n",
       "         ...    \n",
       "989       696690\n",
       "990      1378435\n",
       "991    141843612\n",
       "993     13780024\n",
       "996     30500000\n",
       "Name: Gross, Length: 713, dtype: object"
      ]
     },
     "execution_count": 110,
     "metadata": {},
     "output_type": "execute_result"
    }
   ],
   "source": [
    "dataset['Gross'] = dataset['Gross'].str.replace(\",\",\"\")\n",
    "dataset['Gross']"
   ]
  },
  {
   "cell_type": "code",
   "execution_count": 111,
   "id": "35c4b071-f694-4fd4-b590-d6693993475b",
   "metadata": {},
   "outputs": [],
   "source": [
    "dataset['Gross'] = pd.to_numeric(dataset['Gross'], errors='coerce')"
   ]
  },
  {
   "cell_type": "code",
   "execution_count": 112,
   "id": "8f3ebd14-f949-4634-ba63-695a1cb3cc94",
   "metadata": {},
   "outputs": [
    {
     "data": {
      "text/plain": [
       "0      175\n",
       "1      152\n",
       "2      202\n",
       "3       96\n",
       "4      201\n",
       "      ... \n",
       "989    157\n",
       "990    144\n",
       "991     78\n",
       "993     87\n",
       "996    118\n",
       "Name: Runtime, Length: 713, dtype: int64"
      ]
     },
     "execution_count": 112,
     "metadata": {},
     "output_type": "execute_result"
    }
   ],
   "source": [
    "dataset['Runtime'] = dataset['Runtime'].str.replace(\"min\",\"\")\n",
    "dataset['Runtime'] = pd.to_numeric(dataset['Runtime'], errors='coerce')\n",
    "dataset['Runtime']"
   ]
  },
  {
   "cell_type": "code",
   "execution_count": 113,
   "id": "842b6c5d-87a2-4b43-8cbf-f46ddacf14e1",
   "metadata": {},
   "outputs": [],
   "source": [
    "# Passed e Approved é a mesma coisa que U\n",
    "dataset['Certificate'] = dataset['Certificate'].replace(['Passed', 'Approved'], 'U')\n",
    "\n",
    "certificate_list = list(dataset[\"Certificate\"].unique())\n",
    "certificate_imdb = []\n",
    "certificate_gross = []\n",
    "certificate_time = []"
   ]
  },
  {
   "cell_type": "markdown",
   "id": "311ed699",
   "metadata": {},
   "source": [
    "### 1.4.2 - Vendo qual o maior número de vendas com base no imdb, tempo de filme e faixa etária. "
   ]
  },
  {
   "cell_type": "code",
   "execution_count": 114,
   "id": "87e58002-045c-4174-a255-45ead17b3448",
   "metadata": {},
   "outputs": [
    {
     "data": {
      "text/html": [
       "<div>\n",
       "<style scoped>\n",
       "    .dataframe tbody tr th:only-of-type {\n",
       "        vertical-align: middle;\n",
       "    }\n",
       "\n",
       "    .dataframe tbody tr th {\n",
       "        vertical-align: top;\n",
       "    }\n",
       "\n",
       "    .dataframe thead th {\n",
       "        text-align: right;\n",
       "    }\n",
       "</style>\n",
       "<table border=\"1\" class=\"dataframe\">\n",
       "  <thead>\n",
       "    <tr style=\"text-align: right;\">\n",
       "      <th></th>\n",
       "      <th>Gross</th>\n",
       "      <th>Certificate</th>\n",
       "      <th>IMDB_Rating</th>\n",
       "      <th>Time</th>\n",
       "    </tr>\n",
       "  </thead>\n",
       "  <tbody>\n",
       "    <tr>\n",
       "      <th>1</th>\n",
       "      <td>1.500956e+08</td>\n",
       "      <td>UA</td>\n",
       "      <td>7.929577</td>\n",
       "      <td>127.711268</td>\n",
       "    </tr>\n",
       "    <tr>\n",
       "      <th>2</th>\n",
       "      <td>8.805820e+07</td>\n",
       "      <td>U</td>\n",
       "      <td>7.964646</td>\n",
       "      <td>121.676768</td>\n",
       "    </tr>\n",
       "    <tr>\n",
       "      <th>0</th>\n",
       "      <td>6.625398e+07</td>\n",
       "      <td>A</td>\n",
       "      <td>7.993642</td>\n",
       "      <td>128.959538</td>\n",
       "    </tr>\n",
       "    <tr>\n",
       "      <th>4</th>\n",
       "      <td>5.508732e+07</td>\n",
       "      <td>G</td>\n",
       "      <td>8.022222</td>\n",
       "      <td>115.000000</td>\n",
       "    </tr>\n",
       "    <tr>\n",
       "      <th>5</th>\n",
       "      <td>3.780400e+07</td>\n",
       "      <td>PG-13</td>\n",
       "      <td>7.784211</td>\n",
       "      <td>112.210526</td>\n",
       "    </tr>\n",
       "    <tr>\n",
       "      <th>3</th>\n",
       "      <td>2.653840e+07</td>\n",
       "      <td>R</td>\n",
       "      <td>7.866412</td>\n",
       "      <td>121.091603</td>\n",
       "    </tr>\n",
       "    <tr>\n",
       "      <th>8</th>\n",
       "      <td>2.602096e+07</td>\n",
       "      <td>U/A</td>\n",
       "      <td>7.600000</td>\n",
       "      <td>102.000000</td>\n",
       "    </tr>\n",
       "    <tr>\n",
       "      <th>6</th>\n",
       "      <td>2.015480e+07</td>\n",
       "      <td>PG</td>\n",
       "      <td>7.905263</td>\n",
       "      <td>111.947368</td>\n",
       "    </tr>\n",
       "    <tr>\n",
       "      <th>9</th>\n",
       "      <td>1.378435e+06</td>\n",
       "      <td>GP</td>\n",
       "      <td>7.600000</td>\n",
       "      <td>144.000000</td>\n",
       "    </tr>\n",
       "    <tr>\n",
       "      <th>7</th>\n",
       "      <td>1.066620e+05</td>\n",
       "      <td>TV-PG</td>\n",
       "      <td>8.000000</td>\n",
       "      <td>119.000000</td>\n",
       "    </tr>\n",
       "  </tbody>\n",
       "</table>\n",
       "</div>"
      ],
      "text/plain": [
       "          Gross Certificate  IMDB_Rating        Time\n",
       "1  1.500956e+08          UA     7.929577  127.711268\n",
       "2  8.805820e+07           U     7.964646  121.676768\n",
       "0  6.625398e+07           A     7.993642  128.959538\n",
       "4  5.508732e+07           G     8.022222  115.000000\n",
       "5  3.780400e+07       PG-13     7.784211  112.210526\n",
       "3  2.653840e+07           R     7.866412  121.091603\n",
       "8  2.602096e+07         U/A     7.600000  102.000000\n",
       "6  2.015480e+07          PG     7.905263  111.947368\n",
       "9  1.378435e+06          GP     7.600000  144.000000\n",
       "7  1.066620e+05       TV-PG     8.000000  119.000000"
      ]
     },
     "execution_count": 114,
     "metadata": {},
     "output_type": "execute_result"
    }
   ],
   "source": [
    "\n",
    "for i in certificate_list:\n",
    "    x = dataset[dataset[\"Certificate\"] == i]\n",
    "    if(len(x)!=0):\n",
    "        imdb = sum(x.IMDB_Rating)/len(x)\n",
    "        gross = sum(x.Gross)/len(x)\n",
    "        time = sum(x.Runtime)/len(x)\n",
    "        certificate_imdb.append(imdb)\n",
    "        certificate_gross.append(gross)\n",
    "        certificate_time.append(time)\n",
    "    else:\n",
    "        imdb = sum(x.IMDB_Rating)\n",
    "        gross = sum(x.Gross)\n",
    "        time = sum(x.Runtime)\n",
    "        certificate_gross.append(gross)\n",
    "        certificate_imdb.append(imdb)\n",
    "        certificate_time.append(time)\n",
    "\n",
    "df_certificate = pd.DataFrame({'Gross': certificate_gross,'Certificate': certificate_list, 'IMDB_Rating': certificate_imdb, 'Time':certificate_time})\n",
    "df_certificate.sort_values(by=\"Gross\", ascending=False).head(30)"
   ]
  },
  {
   "cell_type": "markdown",
   "id": "f5eeb1ce",
   "metadata": {},
   "source": [
    "Dos resultados acima vemos que a classificação de 12 anos (UA) é a que tem maior número de vendas, além de observarmos que os filmes na faixa de 115 - 130 minutos estão entre os mais vendidos."
   ]
  },
  {
   "cell_type": "markdown",
   "id": "1eaea5f2",
   "metadata": {},
   "source": [
    "### 1.4.3 - Qual filme recomendar para uma pessoa desconhecida?\n",
    "\n",
    "Por ser uma pessoa desconhecida, devemos levar em consideração a faixa etária da pessoa, logo, devemos selecionar filmes com a faixa etária livre para todas as idades (U). Seguindo para a análise dos dados do filme, vamos selecionar o filme que tenha maior número de vendas e IMDB, e vamos selecionar os filmes com menor número Meta_score,ou seja, com a menor crítica.\n",
    "\n",
    "* Qual filme recomendar? The Lord of the Rings: The Return of the King"
   ]
  },
  {
   "cell_type": "code",
   "execution_count": 117,
   "id": "18d88312",
   "metadata": {},
   "outputs": [
    {
     "name": "stdout",
     "output_type": "stream",
     "text": [
      "Filme com a maior soma de IMDB_Rating, Gross e Meta_score:\n",
      "Series_Title    The Lord of the Rings: The Return of the King\n",
      "Gross                                               377845905\n",
      "IMDB_Rating                                               8.9\n",
      "Meta_score                                               94.0\n",
      "Certificate                                                 U\n",
      "Name: 4, dtype: object\n"
     ]
    },
    {
     "name": "stderr",
     "output_type": "stream",
     "text": [
      "C:\\Users\\Akyla\\AppData\\Local\\Temp\\ipykernel_20264\\4240792086.py:4: SettingWithCopyWarning: \n",
      "A value is trying to be set on a copy of a slice from a DataFrame.\n",
      "Try using .loc[row_indexer,col_indexer] = value instead\n",
      "\n",
      "See the caveats in the documentation: https://pandas.pydata.org/pandas-docs/stable/user_guide/indexing.html#returning-a-view-versus-a-copy\n",
      "  filtered_dataset['Gross_norm'] = (filtered_dataset['Gross'] - filtered_dataset['Gross'].min()) / (filtered_dataset['Gross'].max() - filtered_dataset['Gross'].min())\n",
      "C:\\Users\\Akyla\\AppData\\Local\\Temp\\ipykernel_20264\\4240792086.py:5: SettingWithCopyWarning: \n",
      "A value is trying to be set on a copy of a slice from a DataFrame.\n",
      "Try using .loc[row_indexer,col_indexer] = value instead\n",
      "\n",
      "See the caveats in the documentation: https://pandas.pydata.org/pandas-docs/stable/user_guide/indexing.html#returning-a-view-versus-a-copy\n",
      "  filtered_dataset['IMDB_Rating_norm'] = (filtered_dataset['IMDB_Rating'] - filtered_dataset['IMDB_Rating'].min()) / (filtered_dataset['IMDB_Rating'].max() - filtered_dataset['IMDB_Rating'].min())\n",
      "C:\\Users\\Akyla\\AppData\\Local\\Temp\\ipykernel_20264\\4240792086.py:6: SettingWithCopyWarning: \n",
      "A value is trying to be set on a copy of a slice from a DataFrame.\n",
      "Try using .loc[row_indexer,col_indexer] = value instead\n",
      "\n",
      "See the caveats in the documentation: https://pandas.pydata.org/pandas-docs/stable/user_guide/indexing.html#returning-a-view-versus-a-copy\n",
      "  filtered_dataset['Meta_score_norm'] = (filtered_dataset['Meta_score'] - filtered_dataset['Meta_score'].min()) / (filtered_dataset['Meta_score'].max() - filtered_dataset['Meta_score'].min())\n",
      "C:\\Users\\Akyla\\AppData\\Local\\Temp\\ipykernel_20264\\4240792086.py:9: SettingWithCopyWarning: \n",
      "A value is trying to be set on a copy of a slice from a DataFrame.\n",
      "Try using .loc[row_indexer,col_indexer] = value instead\n",
      "\n",
      "See the caveats in the documentation: https://pandas.pydata.org/pandas-docs/stable/user_guide/indexing.html#returning-a-view-versus-a-copy\n",
      "  filtered_dataset['Total_score'] = filtered_dataset['Gross_norm'] + filtered_dataset['IMDB_Rating_norm'] + filtered_dataset['Meta_score_norm']\n"
     ]
    }
   ],
   "source": [
    "filtered_dataset = dataset[dataset[\"Certificate\"] == \"U\"]\n",
    "\n",
    "# Normalizar as colunas (min-max normalization)\n",
    "filtered_dataset['Gross_norm'] = (filtered_dataset['Gross'] - filtered_dataset['Gross'].min()) / (filtered_dataset['Gross'].max() - filtered_dataset['Gross'].min())\n",
    "filtered_dataset['IMDB_Rating_norm'] = (filtered_dataset['IMDB_Rating'] - filtered_dataset['IMDB_Rating'].min()) / (filtered_dataset['IMDB_Rating'].max() - filtered_dataset['IMDB_Rating'].min())\n",
    "filtered_dataset['Meta_score_norm'] = (filtered_dataset['Meta_score'] - filtered_dataset['Meta_score'].min()) / (filtered_dataset['Meta_score'].max() - filtered_dataset['Meta_score'].min())\n",
    "\n",
    "# Calcular a soma das classificações normalizadas\n",
    "filtered_dataset['Total_score'] = filtered_dataset['Gross_norm'] + filtered_dataset['IMDB_Rating_norm'] + filtered_dataset['Meta_score_norm']\n",
    "\n",
    "# Encontrar o filme com a maior soma total\n",
    "top_film = filtered_dataset.loc[filtered_dataset['Total_score'].idxmax()]\n",
    "\n",
    "# Exibir os resultados\n",
    "print(\"Filme com a maior soma de IMDB_Rating, Gross e Meta_score:\")\n",
    "print(top_film[['Series_Title', 'Gross', 'IMDB_Rating', 'Meta_score', 'Certificate']])\n",
    "        "
   ]
  },
  {
   "cell_type": "markdown",
   "id": "751ac3b6",
   "metadata": {},
   "source": [
    "## 1.5 - O que influência os as vendas de um filme?\n",
    "\n",
    "Um método que seria bem interessante de utilizar aqui seria uma matriz de correlação, para ver o que mais quais variáveis que mais influênciam nas vendas de um filme."
   ]
  },
  {
   "cell_type": "markdown",
   "id": "65f34b1f",
   "metadata": {},
   "source": [
    "### 1.5.1 - Transformando colunas \n",
    "\n",
    "Aqui nos vamos pegar a coluna de gênero dos filmes e separar cada gênero, transformando eles em uma coluna para cada gênero de filme."
   ]
  },
  {
   "cell_type": "code",
   "execution_count": 116,
   "id": "5a079c69-92b5-4c30-9065-bc7884afce74",
   "metadata": {},
   "outputs": [],
   "source": [
    "df_encoded = (dataset['Genre'].str.split(',').explode()).str.replace(\" \",\"\")\n",
    "df_encoded = pd.get_dummies(df_encoded).groupby(df_encoded.index).sum()\n",
    "df_encoded = pd.concat([dataset,df_encoded], axis=1)\n",
    "df_encoded = df_encoded.drop(['Genre','Unnamed: 0'], axis=1)\n",
    "# df_encoded.info()\n",
    "\n",
    "teste = pd.get_dummies(dataset['Certificate'])\n",
    "# teste\n",
    "teste = dataset[dataset[\"Certificate\"].isin([\"U\", \"Passed\", \"Approved\"])]\n",
    "# actors = set(df_encoded['Star1'].unique()).union(set(df_encoded['Star2'].unique())).union(set(df_encoded['Star3'].unique())).union(set(df_encoded['Star4'].unique()))\n",
    "\n",
    "# actors = list(actors)\n",
    "# actors.\n"
   ]
  },
  {
   "cell_type": "code",
   "execution_count": null,
   "id": "19916309-9fcd-46ea-885b-a8395d317ad2",
   "metadata": {},
   "outputs": [],
   "source": []
  }
 ],
 "metadata": {
  "kernelspec": {
   "display_name": "venv",
   "language": "python",
   "name": "python3"
  },
  "language_info": {
   "codemirror_mode": {
    "name": "ipython",
    "version": 3
   },
   "file_extension": ".py",
   "mimetype": "text/x-python",
   "name": "python",
   "nbconvert_exporter": "python",
   "pygments_lexer": "ipython3",
   "version": "3.12.1"
  }
 },
 "nbformat": 4,
 "nbformat_minor": 5
}
